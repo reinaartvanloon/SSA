{
 "cells": [
  {
   "cell_type": "markdown",
   "metadata": {},
   "source": [
    "# SC3011TN - Stochastische Signaalanalyse - 2020/2021\n",
    "\n",
    "## Python Template\n",
    "\n",
    "This is the template for for the first Python assignment given in the course SC3011TN. In this exercise, we will analyze and simulate the one-dimensional dynamics of a black hole, to determine if the process is wide sense stationary (WSS). Use this template to answer the questions. \n",
    "\n",
    "### How to use the template\n",
    "As you will see there are two types of cells in this Jupyter Notebook, **Python** cells indicated with `In [ ]:` and **Markdown** cells that have no marking to the left of the cell. For the **Markdown** cells you have to click on the text itself (indicated throughout the text with 'Click here to type your answer').\n",
    "\n",
    "1. The **Python** work in the usual way, enter your code and press `Shift Enter` to run the cell, the output will be displayed below the cell. Variables and functions will be accessible by the other cells after you have run the code. \n",
    "\n",
    "2. The **Markdown** cells use the **Markdown** type setting language. This is a very simple type setting system. Check the [Cheatsheet](https://github.com/adam-p/markdown-here/wiki/Markdown-Cheatsheet) for a over view of the commends. Furthermore, **Markdown** works with **LaTeX** math, `$ $` for inline equations and `$$ $$` for centered equations. Press `Shift Enter` to compile the text.\n",
    "\n",
    "After you have answered the questions and are finished with the assignment, you can export the **Jupyter Notebook** as a PDF. Go to the top left, click on `File` then `Download As` and Choose **PDF**. If this feature is not supported by your system, you can also choose **LaTeX**. Then you Download a **LaTeX** project. You can then use your preferred **LaTeX** compiler to create the **PDF**.   \n",
    "\n",
    "**NB: Please remove this part of the notebook before submitting in your assignment**"
   ]
  },
  {
   "cell_type": "markdown",
   "metadata": {},
   "source": [
    "# Group details\n",
    "\n",
    " **Group number**: ...\n",
    " \n",
    " **Student 1**:\n",
    " \n",
    "     Name: ...\n",
    "     \n",
    "     Student number: ...\n",
    "\n",
    " **Student 2**: \n",
    " \n",
    "     Name: ... \n",
    "     \n",
    "     Student number: ...\n",
    "\n",
    " **Date of completion**: ..."
   ]
  },
  {
   "cell_type": "markdown",
   "metadata": {},
   "source": [
    "## Question 1\n",
    "If the random process $x(k)$ in (1.1) is wide-sense stationary (WSS), what can you say about its mean and variance? And what if the process is not WSS?"
   ]
  },
  {
   "cell_type": "markdown",
   "metadata": {},
   "source": [
    "### Answer 1\n",
    "Click here to type your answer. Type *Markdown* and LaTeX: $\\alpha^2$."
   ]
  },
  {
   "cell_type": "code",
   "execution_count": null,
   "metadata": {},
   "outputs": [],
   "source": [
    "# Import packages\n",
    "import numpy as np\n",
    "import matplotlib.pyplot as plt\n",
    "import scipy as sci\n",
    "\n",
    "# Initiate random seed for reproducible results\n",
    "np.random.seed(2021)\n",
    "\n",
    "# Constants (Table 2.1 of the assignment text)\n",
    "N = 1e5                       # Number of samples\n",
    "dt = 1e-3                     # Sampling period\n",
    "m = 0.01                      # Mass of the black hole\n",
    "a = 3*np.pi/16                # Plummer radius\n",
    "b_max = a                     # Maximum impact parameter\n",
    "G = 1                         # Normalized gravitational constant\n",
    "M = 1                         # Normalized total cluster mass\n",
    "V_0 = np.sqrt(G*M/(2*a))      # Relative velocity with interacting stars\n",
    "Lambda = b_max*V_0**2/(G*m)   # Coulomb logarithm factor\n",
    "c = G*M*m/a**3                # Spring constant\n",
    "gamma = 128*np.sqrt(2)/(7*np.pi) * np.sqrt(G/(M*a**3)) * m**2 * np.log(Lambda) # Friction coefficient"
   ]
  },
  {
   "cell_type": "markdown",
   "metadata": {},
   "source": [
    "As the number of interacting stars $N_{\\text{star}}$, fill in the first 5 digits of the student number of Student 1"
   ]
  },
  {
   "cell_type": "code",
   "execution_count": null,
   "metadata": {},
   "outputs": [],
   "source": [
    "N_star =     # First 5 digits of student number of Student 1; number of interacting stars\n",
    "m_star = M/N_star # Mass of an individual interacting star\n",
    "R = 4*G*M*m_star*gamma/(9*a) # Noise factor"
   ]
  },
  {
   "cell_type": "markdown",
   "metadata": {},
   "source": [
    "## Question 2\n",
    "\n",
    "Let $x(k)$ be the discrete-time representation of the position of the black hole, with $t = k\\Delta t$. Derive the discrete-time dynamics of $x(k)$. That is, find the parameters $\\beta_1, \\beta_2, \\beta_3$ in the following second order difference equation:\n",
    "\n",
    "$$x(k)+\\beta_1 \\cdot x(k-1)+\\beta_2 \\cdot x(k-2) = \\beta_3 \\cdot \\tilde w(k)$$\n",
    "\n",
    "Use Euler's backward approximation to approximate the derivative operator $\\frac{d(.)}{dt}$ and second order derivative operator $\\frac{d^2(.)}{d^2t}$ in (1.1). Subsequently replace the white noise signal $w(t)$ by a discrete white noise sequence as outlined in Section 1.3. \n",
    "\n",
    "### Provide:\n",
    "1. Analytical expressions for the parameters $\\beta_1, \\beta_2, \\beta_3$\n",
    "2. Their numerical values, by making use of the data given in Table 2.1"
   ]
  },
  {
   "cell_type": "markdown",
   "metadata": {},
   "source": [
    "### Answer 2\n",
    "Click here to type your answer. Type *Markdown* and LaTeX: $\\alpha^2$."
   ]
  },
  {
   "cell_type": "code",
   "execution_count": null,
   "metadata": {},
   "outputs": [],
   "source": [
    "b1 = \n",
    "b2 = \n",
    "b3 = "
   ]
  },
  {
   "cell_type": "markdown",
   "metadata": {},
   "source": [
    "## Question 3\n",
    "\n",
    "Analyze the stochastic discrete-time dynamics in the z-domain. Specifically, answer the following questions:\n",
    "1. Using the z-transform, determine the transfer function $H(z)$ from $\\tilde{w}$ to $x$ of the discrete-time dynamical system described by difference equation (2.1).\n",
    "2. Determine the poles of $H(z)$.\n",
    "3. Is this system (BIBO) stable? Use Definition 2.5 or Lemma 2.6 on page 24 of the reader."
   ]
  },
  {
   "cell_type": "markdown",
   "metadata": {},
   "source": [
    "### Answer 3\n",
    "Click here to type your answer. Type *Markdown* and LaTeX: $\\alpha^2$."
   ]
  },
  {
   "cell_type": "markdown",
   "metadata": {},
   "source": [
    "## Question 4\n",
    "Simulate a single realization of the trajectory of the black hole. That is, simulate the difference equation (2.1) for $k = 3,\\cdots,N$ with $N = 5000$ using the initial conditions $x(1) = x(2) = 0 $. Hereby you should generate discrete white noise samples using the **Numpy** command [`np.random.normal(size=N)`](https://docs.scipy.org/doc/numpy-1.15.0/reference/generated/numpy.random.normal.html)\n",
    "\n",
    "### Provide:\n",
    "1. Python code to generate $N$ samples of $x(k)$\n",
    "2. Plot a realization of one sequence $x(k)$\n",
    "3. Explain the results. Do the results agree with your analysis in Question 3?"
   ]
  },
  {
   "cell_type": "markdown",
   "metadata": {},
   "source": [
    "### Answer 4\n",
    "Click here to type your answer. Type *Markdown* and LaTeX: $\\alpha^2$."
   ]
  },
  {
   "cell_type": "code",
   "execution_count": null,
   "metadata": {},
   "outputs": [],
   "source": [
    "N = \n",
    "x = \n",
    "w ="
   ]
  },
  {
   "cell_type": "markdown",
   "metadata": {},
   "source": [
    "Simulate the difference equation:"
   ]
  },
  {
   "cell_type": "code",
   "execution_count": null,
   "metadata": {},
   "outputs": [],
   "source": [
    "for k in range(N-2):\n",
    "    x[] = \n"
   ]
  },
  {
   "cell_type": "markdown",
   "metadata": {},
   "source": [
    "Plot the results:"
   ]
  },
  {
   "cell_type": "code",
   "execution_count": null,
   "metadata": {},
   "outputs": [],
   "source": [
    "plt.figure(1)\n",
    "plt.plot( )\n",
    "plt.xlabel('Time')\n",
    "plt.ylabel('Displacement')\n",
    "plt.show()"
   ]
  },
  {
   "cell_type": "markdown",
   "metadata": {},
   "source": [
    "## Question 5\n",
    " \n",
    "In Question 4, you generated one realization of the trajectory of the black hole. To formalize this, let us denote the realization generated in Question 4 as $x(k,\\lambda)$ for $\\lambda = 1$ and the corresponding white noise sequence as $\\tilde{w}(k,1)$. \n",
    "\n",
    "Now, simulate multiple realizations of the trajectory of the black hole. Specifically, generate $L$ realizations $x(k,\\lambda)$ for $\\lambda = 1,\\cdots,L$, with each realization generated for a different realization of the discrete time white noise sequence $\\tilde{w}(k,\\lambda)$. \n",
    "\n",
    "NB. You may overwrite the realization generated in Question 4.\n",
    "\n",
    "### Provide:\n",
    "1. Python script used to generate $L$ realizations $x(k,\\lambda)$ sequences\n",
    "2. Plot of all $L$ realizations for $L = 50$\n",
    "3. Explain the results. Do the results agree with your analysis in Question 3?"
   ]
  },
  {
   "cell_type": "markdown",
   "metadata": {},
   "source": [
    "### Answer 5\n",
    "Click here to type your answer. Type *Markdown* and LaTeX: $\\alpha^2$."
   ]
  },
  {
   "cell_type": "code",
   "execution_count": null,
   "metadata": {},
   "outputs": [],
   "source": [
    "L = \n",
    "x = \n",
    "w = "
   ]
  },
  {
   "cell_type": "markdown",
   "metadata": {},
   "source": [
    "Perform L realizations of the difference equation"
   ]
  },
  {
   "cell_type": "code",
   "execution_count": null,
   "metadata": {},
   "outputs": [],
   "source": [
    "for l in range(L):\n",
    "    for k in range(N-2):\n",
    "        x[] = "
   ]
  },
  {
   "cell_type": "markdown",
   "metadata": {},
   "source": [
    "Plot the results"
   ]
  },
  {
   "cell_type": "code",
   "execution_count": null,
   "metadata": {},
   "outputs": [],
   "source": [
    "plt.figure(2)\n",
    "plt.plot()\n",
    "plt.xlabel('Time')\n",
    "plt.ylabel('Displacement')\n",
    "plt.show"
   ]
  },
  {
   "cell_type": "markdown",
   "metadata": {},
   "source": [
    "## Question 6\n",
    "\n",
    "**NB: Make sure your computer has enough memory / try small L values first!**\n",
    "\n",
    "Now, simulate even more realizations of the trajectory of the black hole.\n",
    "\n",
    "Increase $L$, as defined in Question 5, to respectively $L = 100, \\ 500, \\ 2500$. For each value of $L$, obtain all realizations at time steps $k = 10^3$, $k = 10^4$ and $k = 10^5$. That is, find $\\{x(10^3,\\lambda)\\}_{\\lambda = 1}^L, \\ \\{x(10^4,\\lambda)\\}_{\\lambda = 1}^L, \\ \\{x(10^5,\\lambda)\\}_{\\lambda = 1}^L$. \n",
    "\n",
    "Using this data, generate histograms with **python** command `matplotlib.pyplot.hist()`, for each combination of time $k = 10^3,10^4,10^5$ and amount of realizations $L = 100, \\ 500, \\ 2500$. Your answer should thus consist of $9$ histograms. The number of bins in each histogram should be equal to $\\sqrt{L}$.  \n",
    "\n",
    "### Provide:\n",
    "1. One figure containing the 9 histograms. Make sure the figure has no overlapping text!\n",
    "2. Comment on your results."
   ]
  },
  {
   "cell_type": "markdown",
   "metadata": {},
   "source": [
    "### Answer 6\n",
    "Click here to type your answer. Type *Markdown* and LaTeX: $\\alpha^2$."
   ]
  },
  {
   "cell_type": "code",
   "execution_count": null,
   "metadata": {},
   "outputs": [],
   "source": [
    "Ls =     # Array containing realization instances (i.e. 100, 500, 2500)\n",
    "Ns =     # Array containing time instances (i.e. 1e3, 1e4, 1e5)"
   ]
  },
  {
   "cell_type": "markdown",
   "metadata": {},
   "source": [
    "Take $L$ the maximum number of simulations we need to compare (We can take subsets for the lower values of L). Recall that $N$ is the maximum number of time steps we need to simulate."
   ]
  },
  {
   "cell_type": "code",
   "execution_count": null,
   "metadata": {},
   "outputs": [],
   "source": [
    "L = \n",
    "N = \n",
    "x = \n",
    "w = "
   ]
  },
  {
   "cell_type": "markdown",
   "metadata": {},
   "source": [
    "Simulate the difference equation $L$ times. Depending on your hardware and code, this step could take 10-15 min. \n",
    "\n",
    "NB. You can also vectorize the below computations instead of using a loop and use numpy operations to significantly speed up computations on arrays."
   ]
  },
  {
   "cell_type": "code",
   "execution_count": null,
   "metadata": {},
   "outputs": [],
   "source": [
    "for l in range(L):\n",
    "    for k in range(N-2):\n",
    "        x[] = "
   ]
  },
  {
   "cell_type": "markdown",
   "metadata": {},
   "source": [
    "Take different subsets of the data for each combination of $k$ and $L$ and plot the results as histograms:"
   ]
  },
  {
   "cell_type": "code",
   "execution_count": null,
   "metadata": {},
   "outputs": [],
   "source": [
    "fig, axs = plt.subplots(3, 3, figsize = [13.8, 10.6], tight_layout = 3.0)\n",
    "for i in range(len(Ls)):\n",
    "    L = Ls[i]\n",
    "    for j in range(len(Ns)):\n",
    "        h = Ns[j]\n",
    "        axs[i, j].hist()\n",
    "        axs[i, j].set_title(' L = %d, h=%d' % (L,h))\n",
    "        axs[i, j].set_xlim([np.min(x), np.max(x)])"
   ]
  },
  {
   "cell_type": "markdown",
   "metadata": {},
   "source": [
    "## Question 7\n",
    "Fit a Gaussian function, given by $f(\\alpha) = \\kappa e^{-\\frac{\\alpha^2}{2\\sigma^2}}$, to the $9$ histograms Question 6. For that purpose, denote the center of bin $i$ of the histogram by $\\alpha _i$ and the corresponding height of the histogram as $h(\\alpha_i)$. Then solve the following least squares optimization problem using the **scipy** function [`scipy.optimize.least_squares()`](https://docs.scipy.org/doc/scipy/reference/generated/scipy.optimize.least_squares.html)\n",
    "\n",
    "$$ \\hat{\\kappa}, \\ \\hat{\\sigma} = arg \\ min_{\\kappa,\\sigma} \\sum_{i=1}^P \\Bigg( h(\\alpha_i)-\\kappa e^{-\\frac{\\alpha_i^2}{2\\sigma^2}} \\Bigg)^2 $$\n",
    "\n",
    "Hint: You can use the numpy function `numpy.std` to get an estimate of the standard deviation of the random samples $\\{x(k,\\lambda)\\}$. Together with the number of elements in the largest bin, you can use this to derive initial estimates of $\\kappa$ and $\\sigma$ in the Gaussian function.\n",
    "\n",
    "### Provide:\n",
    "1. Python script reading the random samples and the samples $h(\\alpha _i)$ of the histograms\n",
    "2. 9 plots of the histograms and the Gaussian fits in one figure. Make sure the figure has no overlapping text!\n",
    "3. Comment on your results."
   ]
  },
  {
   "cell_type": "markdown",
   "metadata": {},
   "source": [
    "### Answer 7\n",
    "Click here to type your answer. Type *Markdown* and LaTeX: $\\alpha^2$."
   ]
  },
  {
   "cell_type": "code",
   "execution_count": null,
   "metadata": {},
   "outputs": [],
   "source": [
    "from scipy.optimize import least_squares\n",
    "# define functions\n",
    "def model(x, alpha):\n",
    "    '''\n",
    "    Define the Gaussian function\n",
    "    \n",
    "    Inputs:\n",
    "        x: array of fitting parameters (i.e. kappa, sigma)\n",
    "        alpha: coordinate to describe the center of a bin of a histogram\n",
    "    '''\n",
    "    gaussian = \n",
    "    return gaussian\n",
    "\n",
    "def error(x, alpha, h): \n",
    "    '''\n",
    "    Define the difference between the simulated data and the Gaussian function.\n",
    "    That is, the difference between the center of each bin of the histogram and \n",
    "    the corresponding coordinate of the Gaussian density function.\n",
    "    \n",
    "    Inputs:\n",
    "        x: array of fitting parameters (i.e. kappa, sigma)\n",
    "        alpha: coordinate to describe the center of a bin of a histogram\n",
    "        h: height of the histogram at coordinate alpha\n",
    "    '''\n",
    "    difference = \n",
    "    return difference\n",
    "\n",
    "def jac(x, alpha, h):\n",
    "    '''\n",
    "    Define Jacobian, i.e. the partial derivatives of the difference between the simulated data \n",
    "    and the Gaussian function, with respect to the parameters contained in x.\n",
    "    \n",
    "    Inputs:\n",
    "        x: array of fitting parameters (i.e. kappa, sigma)\n",
    "        alpha: coordinate to describe the center of a bin of a histogram\n",
    "        h: height of the histogram at coordinate alpha\n",
    "    '''\n",
    "    J = np.empty((alpha.size, x.size))\n",
    "    J[:,0] = \n",
    "    J[:,1] = \n",
    "    return J\n",
    "\n",
    "# Make figure that shows histograms\n",
    "fit_parameters = np.zeros([2, len(Ls), len(Ns)])\n",
    "\n",
    "for i in range(len(Ls)):\n",
    "    L = Ls[i]   \n",
    "    \n",
    "    for j in range(len(Ns)):\n",
    "        h = Ns[j]     \n",
    "        \n",
    "        # Repeat hist command to get the data, the command gives bin edges\n",
    "        # But you need the centers\n",
    "        [counts, edges] = np.histogram(           )\n",
    "        centers = \n",
    "        \n",
    "        # Calculate initial estimates of sigma and kappa\n",
    "        sigma0 = \n",
    "        kappa0 = \n",
    "        x0 = np.array([kappa0, sigma0])\n",
    "        \n",
    "        # Fit the Gaussian through the histogram data and save into array\n",
    "        p_opt = least_squares(error, \n",
    "                              x0, \n",
    "                              jac = jac, \n",
    "                              args = (centers, counts));\n",
    "        fit_parameters[:,i,j] = p_opt.x\n",
    "        \n",
    "        #Plot the Gaussian on top of the histogram\n",
    "        xg = np.linspace(np.min(x), np.max(x), 1000)\n",
    "        yg = \n",
    "        \n",
    "        #Add the Gaussian fits to the histograms\n",
    "        axs[i, j].plot(xg,yg,'r')\n",
    "        axs[i, j].set_xlabel('$\\hat{\\sigma}$ = %.2e' % p_opt.x[1])\n",
    "\n",
    "fig"
   ]
  },
  {
   "cell_type": "markdown",
   "metadata": {},
   "source": [
    "# Question 8\n",
    "\n",
    "Summarize the results Question 7 in the following table.\n",
    "\n",
    "The results of Gaussian fits for the random samples $\\{x( k,\\lambda )\\}$ for $k=10^3, 10^4, 10^5$ and $L = 100, 500, 2500$:\n",
    "\n",
    "| L       | $\\hat{\\kappa}$           | $\\hat{\\sigma}$  |\n",
    "| ------------- |:-------------:| -----:|\n",
    "| $50$      |   |  |\n",
    "| $500$     |   |  |\n",
    "| $5000$    |   |  |\n",
    "\n",
    "Your answer should contain $3$ tables (for different values of $k$) in the style of the above table template."
   ]
  },
  {
   "cell_type": "markdown",
   "metadata": {},
   "source": [
    "### Answer 8\n",
    "Click here to type your answer. Type *Markdown* and LaTeX: $\\alpha^2$."
   ]
  },
  {
   "cell_type": "markdown",
   "metadata": {},
   "source": [
    "## Question 9\n",
    "\n",
    "Analyze how the standard deviation of the realizations and Gaussian fits is related to time and to the amount of realizations.\n",
    "\n",
    "### Provide:\n",
    "1. Plot $\\hat{\\sigma}$ as a function of $k$, for $k = \\{0,1,...,10^5-1\\}$ (i.e. $N = 10^5$ time steps). \n",
    "2. How does $\\hat{\\sigma}$ depend on $k$?\n",
    "3. How does the Gaussian fit change with respect to $k$ and $L$?"
   ]
  },
  {
   "cell_type": "markdown",
   "metadata": {},
   "source": [
    "### Answer 9\n",
    "Click here to type your answer. Type *Markdown* and LaTeX: $\\alpha^2$."
   ]
  },
  {
   "cell_type": "code",
   "execution_count": null,
   "metadata": {},
   "outputs": [],
   "source": [
    "N = 10**5\n",
    "t = np.linspace(0, dt*N, N)\n",
    "sigma_x = np.std()\n",
    "\n",
    "figure(6)\n",
    "plt.plot()\n",
    "plt.xlabel('Time')\n",
    "plt.ylabel('Std. dev. of displacement')\n",
    "plt.show()"
   ]
  },
  {
   "cell_type": "markdown",
   "metadata": {},
   "source": [
    "## Question 10\n",
    "Analyze the autocorrelation of the process. \n",
    "\n",
    "### Provide:\n",
    "1. What is the relationship between the standard deviation $\\hat{\\sigma}(k)$, autocorrelation $r_x(k,k)$ and auto-covariance $c_x(k,k)$? \n",
    "2. Now, calculate the autocorrelation $r_x(k,k+500)$ for $k=\\{0,1,2,\\cdots, 10^5-501\\}$ using $L = 2500$ realizations. Plot the results. \n",
    "3. How does $r_x(k,k+500)$ depend on $k$?"
   ]
  },
  {
   "cell_type": "markdown",
   "metadata": {},
   "source": [
    "### Answer 10\n",
    "Click here to type your answer. Type *Markdown* and LaTeX: $\\alpha^2$."
   ]
  },
  {
   "cell_type": "code",
   "execution_count": null,
   "metadata": {},
   "outputs": [],
   "source": [
    "L = 2500\n",
    "h2 = 500\n",
    "h = 10**5 - h2\n",
    "start = 0\n",
    "Rx = np.zeros((L,h))\n",
    "for i in range(L):\n",
    "    Rx[i] = \n",
    " \n",
    "plt.figure(11)\n",
    "plt.plot(             )\n",
    "plt.xlabel('Time')\n",
    "plt.ylabel('Auto-correlation')\n",
    "plt.show()"
   ]
  },
  {
   "cell_type": "markdown",
   "metadata": {},
   "source": [
    "## Question 11\n",
    "\n",
    "Using the results obtained so far, what can you conclude regarding wide sense stationarity (WSS) of the random process?"
   ]
  },
  {
   "cell_type": "markdown",
   "metadata": {},
   "source": [
    "### Answer 11\n",
    "Click here to type your answer. Type *Markdown* and LaTeX: $\\alpha^2$."
   ]
  }
 ],
 "metadata": {
  "kernelspec": {
   "display_name": "Python 3",
   "language": "python",
   "name": "python3"
  },
  "language_info": {
   "codemirror_mode": {
    "name": "ipython",
    "version": 3
   },
   "file_extension": ".py",
   "mimetype": "text/x-python",
   "name": "python",
   "nbconvert_exporter": "python",
   "pygments_lexer": "ipython3",
   "version": "3.7.4"
  },
  "latex_envs": {
   "LaTeX_envs_menu_present": true,
   "autoclose": false,
   "autocomplete": true,
   "bibliofile": "biblio.bib",
   "cite_by": "apalike",
   "current_citInitial": 1,
   "eqLabelWithNumbers": true,
   "eqNumInitial": 1,
   "hotkeys": {
    "equation": "Ctrl-E",
    "itemize": "Ctrl-I"
   },
   "labels_anchors": false,
   "latex_user_defs": false,
   "report_style_numbering": false,
   "user_envs_cfg": false
  }
 },
 "nbformat": 4,
 "nbformat_minor": 2
}

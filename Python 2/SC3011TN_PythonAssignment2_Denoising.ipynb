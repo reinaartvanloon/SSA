{
 "cells": [
  {
   "cell_type": "markdown",
   "metadata": {},
   "source": [
    "# SC3011TN - Stochastische Signaalanalyse - 2020/2021\n",
    "\n",
    "## Python Template\n",
    "\n",
    "This is the template for for the second Python assignment given in the course SC3011TN. In this exercise, we will use a FIR Wiener filter to denoise signals, which were obtained by sending and recording with Arduino microcontrollers. Due to the COVID-measures, we can sadly not allow you to record signals yourself, so this year we have recorded signals for you and you are tasked solely with filtering the signals. Use this template to answer the questions. \n",
    "\n",
    "### How to use the template\n",
    "As you will see there are two types of cells in this Jupyter Notebook, **Python** cells indicated with `In [ ]:` and **Markdown** cells that have no marking to the left of the cell. For the **Markdown** cells you have to click on the text itself (indicated throughout the text with 'Click here to type your answer').\n",
    "\n",
    "1. The **Python** cells work in the usual way, enter your code and press `Shift Enter` to run the cell, the output will be displayed below the cell. Variables and functions will be accessible by the other cells after you have run the code. \n",
    "\n",
    "2. The **Markdown** cells use the **Markdown** type setting language. This is a very simple type setting system. Check the [Cheatsheet](https://github.com/adam-p/markdown-here/wiki/Markdown-Cheatsheet) for a overview of the comments. Furthermore, **Markdown** works with **LaTeX** math, `$ $` for inline equations and `$$ $$` for centered equations. Press `Shift Enter` to compile the text.\n",
    "\n",
    "After you have answered the questions and are finished with the assignment, you can export the **Jupyter Notebook** as a PDF. Go to the top left, click on `File` then `Download As` and Choose **PDF**. If this feature is not supported by your system, you can also choose **LaTeX**. Then you Download a **LaTeX** project. You can then use your preferred **LaTeX** compiler to create the **PDF**.   \n",
    "\n",
    "**NB: Please remove this part of the notebook before submitting in your assignment**"
   ]
  },
  {
   "cell_type": "markdown",
   "metadata": {},
   "source": [
    "# Group details\n",
    "\n",
    " **Student 1**:\n",
    " \n",
    "     Name: ...\n",
    "     \n",
    "     Student number: ...\n",
    "\n",
    " **Student 2**: \n",
    " \n",
    "     Name: ... \n",
    "     \n",
    "     Student number: ...\n",
    "\n",
    " **Date of completion**: ..."
   ]
  },
  {
   "cell_type": "markdown",
   "metadata": {},
   "source": [
    "## Introduction\n",
    "\n",
    "In this exercise, we consider an RF communication system consisting of an emitter and a receiver.\n",
    "Interference originating from the RF environment and from thermal noise of the system cause signal degradation at the receiver.\n",
    "Since the nature of these aberrations is stochastic, Wiener filtering can be used to subtract the effects of the distortion.\n",
    "\n",
    "In the configuration of the figure below, all signals are discrete-time and real.\n",
    "The corrupted signal $x(n) = d(n) + v(n)$ contains both the signal of interest $d(n)$ and noise $v(n)$, which is uncorrelated to d(n).\n",
    "In this assignment you will design a FIR filter $W(z)$, used to estimate the ground truth signal from $x(n)$ and from the statistical properties of the noise.\n",
    "\n",
    "![alt text][anc]\n",
    "\n",
    "[anc]: ./denoising-scheme.JPG"
   ]
  },
  {
   "cell_type": "markdown",
   "metadata": {},
   "source": [
    "## Reporting\n",
    "\n",
    "\n",
    "You are required to hand-in a report, showing your results and answering the questions about this exercise. Python scripts should be included as text in your report. Do not forget to change the amount of interacting stars according to your student number, as no points can be awarded otherwise.\n",
    "\n",
    "To help you with reporting, you can use this Jupyter notebook as your report. We strongly encourage using the notebook, as hints are already provided for you. After you have answered the questions and are finished with the assignment, you can export the Jupyter notebook as a PDF (File > Download as > LaTeX or PDF).\n",
    "\n",
    "The report or exported Jupyter notebook should be dated and handed in before the deadline (see Course Schedule on Brightspace). The report should be handed in digitally by only one group member, but make sure the names and student numbers of all group members are included in the report or exported Jupyter notebook."
   ]
  },
  {
   "cell_type": "markdown",
   "metadata": {},
   "source": [
    "## First steps\n",
    "\n",
    "Make sure that the files `Audio.py`, `Communication.py` and `denoising-scheme.jpg`, as well as the recorded signals `gong_5cm.mat`, `gong_100cm.mat`, `gong_250cm.mat` and `noise.mat` are included in the same directory as this Jupyter notebook. Run the following code:"
   ]
  },
  {
   "cell_type": "code",
   "execution_count": null,
   "metadata": {
    "scrolled": true
   },
   "outputs": [],
   "source": [
    "! pip install pyserial\n",
    "! pip install sounddevice\n",
    "! pip install scipy"
   ]
  },
  {
   "cell_type": "markdown",
   "metadata": {},
   "source": [
    "**Note:** You only need to execute this code snippet once, after that your python will permanently include the modules. If the the code gives an error, manually install the modules using pip in the command prompt. In Windows: start button->search, type cmd->`pip install package_name`"
   ]
  },
  {
   "cell_type": "markdown",
   "metadata": {},
   "source": [
    "# Obtaining the data\n",
    "\n",
    "In this section, you will import data from the transmission experiment, described in the introduction. As the COVID-measures prevent us from letting you record your own signals, we have done the experiment for you and we provide you with the raw recordings. Before doing so, we describe the experimental setup that we used to record the signals. The experimental setup is shown in the figure below. \n",
    "\n",
    "![alt text][anc]\n",
    "\n",
    "[anc]: ./experimentalsetup.png\n",
    "\n",
    "For this experiment, two Arduino MK1000's are used. These Arduino microcontrollers are able to send and receive signals through radio frequency (RF) wireless transmission. As such, the first microcontroller is configured as a sender, used to send a wav-file `gong.wav`. The second microcontroller is configured as a receiver and it is linked to the sender. By simultaneously activating both microcontrollers, the receiver will record the signal sent by the sender.\n",
    "\n",
    "However, the signal transmission is affected by RF noise. Examples of sources of this noise are disturbances in the RF band, distance-dependent noise caused by the distance between the microcontrollers and thermal distortion of the signal. These noise sources act additively on the sent signal `gong.wav`. For distances of 5 cm, 100 cm and 250 cm between the microcontrollers, we recorded `gong_5cm.mat`, `gong_100cm.mat` and `gong_250cm.mat` respectively, which you can listen to later in this assignment.\n",
    "\n",
    "To filter the noise from the signal using denoising, we also need a\n",
    "recording of the noise for every distance of 5 cm, 100 cm and 250 cm\n",
    "between the microcontrollers. The total noise has a complicated spectrum, so to save\n",
    "you some mathematical work we solely focus on ambient,\n",
    "distance-independent noise. This noise is assumed to be zero-mean and white, and a measurement of this noise is contained in `noise.mat`.\n",
    "\n",
    "NB. The recorded values in `gong_5cm.mat`, `gong_100cm.mat`, `gong_250cm.mat` and `noise.mat` are expressed in decibels relative to full scale (dB-FS), which is a unit used to expressed signal amplitudes in digital systems.\n",
    "\n",
    "With these signals, you have enough information to calculate the weights of a FIR Wiener filter. This assignment will guide you through this process."
   ]
  },
  {
   "cell_type": "markdown",
   "metadata": {},
   "source": [
    "### Play the signal"
   ]
  },
  {
   "cell_type": "markdown",
   "metadata": {},
   "source": [
    "During the assignment, you will want to listen to the raw and filtered signals. The function `play_signal` can be used for this. Run the cell below to define the function."
   ]
  },
  {
   "cell_type": "code",
   "execution_count": null,
   "metadata": {},
   "outputs": [],
   "source": [
    "#import sounddevice as sim\n",
    "import sounddevice as sd\n",
    "\n",
    "# function for playing a signal\n",
    "# You can use it further if you want to listen smth\n",
    "\n",
    "def play_signal( signal ):\n",
    "    sd.play( signal.astype('int16'), 22050 )"
   ]
  },
  {
   "cell_type": "markdown",
   "metadata": {},
   "source": [
    "### Loading files\n",
    "\n",
    "\n",
    "Run this section in order to load the .mat files with the noise audios and the background noise signals."
   ]
  },
  {
   "cell_type": "code",
   "execution_count": null,
   "metadata": {},
   "outputs": [],
   "source": [
    "# packages\n",
    "import numpy as np\n",
    "import matplotlib.pyplot as plt\n",
    "import scipy.io as sio\n",
    "\n",
    "# modeling distance in centimeters (cm)\n",
    "distances = np.array( [5.0, 100.0, 250.0] )\n",
    "\n",
    "# number of experiments with different distances\n",
    "N_exp = distances.shape[0]\n",
    "\n",
    "print( f'Number of experiments = {N_exp}' )\n",
    "\n",
    "# list of files for all distance experiments with audio\n",
    "filenames = ['gong_5cm.mat', 'gong_100cm.mat', 'gong_200cm.mat']\n",
    "\n",
    "# Number of data points\n",
    "N = len( sio.loadmat( filenames[0] )['audio'][0] )\n",
    "\n",
    "# create array with received audio signals\n",
    "data_noised = np.zeros( (N_exp, N), dtype=float )\n",
    "for iexp in range(N_exp):\n",
    "    data_noised[iexp] = sio.loadmat( filenames[iexp] )['audio'][0]\n",
    "\n",
    "# array for the time steps\n",
    "time_steps = np.linspace( 0, N-1, N ).astype( int )\n",
    "print( f'\\nN = {N}' )"
   ]
  },
  {
   "cell_type": "code",
   "execution_count": null,
   "metadata": {},
   "outputs": [],
   "source": [
    "# load background noise signal that was measured\n",
    "\n",
    "filename_noise = 'noise.mat'\n",
    "data_mat = sio.loadmat( filename_noise )['audio'][0]\n",
    "\n",
    "Nnoise = len( data_mat )\n",
    "noise_measured = np.array( data_mat, dtype=float )\n",
    "\n",
    "print( f'Number of noise time steps = {Nnoise}' )"
   ]
  },
  {
   "cell_type": "markdown",
   "metadata": {},
   "source": [
    "# Exercises\n",
    "This part should be handled after all audio files were uploaded into *data_noised* array and the noise was uploaded into *noise_measured* file."
   ]
  },
  {
   "cell_type": "markdown",
   "metadata": {},
   "source": [
    "## Question 1\n",
    "\n",
    "Formulate the denoising problem as a Minimum Variance FIR Wiener Problem, using the symbols $x(n)$, $v(n)$, $d(n)$, $\\hat{d}(n)$, $e(n)$ as in the figure presented in the **Introduction**. In particular\n",
    "* Explain for each variable what signal they represent\n",
    "* Write the cost function $J(W(z))$ and the optimization problem that should be solved to find the Minimum Variance FIR Wiener Filter.\n",
    "\n",
    "Note that no numerical values are required, but you need to specify the meaning of all the symbols and their relation to the sent and received data. **(2 points)**"
   ]
  },
  {
   "cell_type": "markdown",
   "metadata": {},
   "source": [
    "### Answer 1\n",
    "\n",
    "$d(n) =$ signal of interest \\\n",
    "$v(n) =$ ZMWN that corrupts received signal \\\n",
    "$x(n) =$ the signal received by the receiver \\\n",
    "$\\hat{d}(n) =$ the received signal flitered by the Wiener filter with transfer function $W(z)$ \\\n",
    "$e(n) =$ the error, it denotes the difference between the actual signal and the received signal filtered by $W(z)$\n",
    "\n",
    "Cost function: $ J(W(z)) = E[|d(n) - \\hat{d}(n)|^2]  $\n",
    "               $ = E[|e(n)|^2]  $\n",
    "\n",
    "\n",
    "\n",
    "XXX Pending XXX\n"
   ]
  },
  {
   "cell_type": "markdown",
   "metadata": {},
   "source": [
    "## Question 2\n",
    "\n",
    "Plot the received audio signals and the received noise signal. You can plot all the audio signals in the same figure, but use a separate plot for the noise signal. Do not forget to label the axes and to provide a legend. **(1 point)**\n",
    "\n",
    "NB. The recorded values in `gong_5cm.mat`, `gong_100cm.mat`, `gong_250cm.mat` and `noise.mat` are expressed in decibels relative to full scale (dB-FS)."
   ]
  },
  {
   "cell_type": "markdown",
   "metadata": {},
   "source": [
    "### Answer 2\n",
    "\n",
    "Click here to type your answer. Type *Markdown* and LaTeX: $\\alpha^2$."
   ]
  },
  {
   "cell_type": "code",
   "execution_count": null,
   "metadata": {},
   "outputs": [],
   "source": [
    "# plot noised audio signal\n",
    "\n",
    "\n",
    "plt.plot(data_noised[0]*2**(-15), label= '5 cm')\n",
    "plt.plot(data_noised[1]*2**(-15), label='100 cm')\n",
    "plt.plot(data_noised[2]*2**(-15), label='250 cm')\n",
    "plt.legend()\n",
    "plt.title('Audio signals for different transmission distances')\n",
    "plt.ylabel('dB-FS')\n",
    "\n",
    "\n",
    "\n",
    "\n",
    "\n",
    "\n"
   ]
  },
  {
   "cell_type": "code",
   "execution_count": null,
   "metadata": {},
   "outputs": [],
   "source": [
    "# listen the noised audio signals\n",
    "# Warning to headphone users: depending on your own sound configurations, the played signal may be very loud! \n",
    "# Turn down your volume the first time you try playing a signal.\n",
    "\n",
    "ind_to_listen = 2 #Choose 0 (5 cm), 1 (100 cm) or 2 (250 cm). \n",
    "play_signal( data_noised[2] )"
   ]
  },
  {
   "cell_type": "code",
   "execution_count": null,
   "metadata": {},
   "outputs": [],
   "source": [
    "# plot the measured noise signal\n",
    "\n",
    "plt.title('The measured noise')\n",
    "plt.plot(noise_measured)\n"
   ]
  },
  {
   "cell_type": "markdown",
   "metadata": {},
   "source": [
    "## Question 3\n",
    "\n",
    "Determine the Wiener-Hopf equation for the denoising case with filter order $m$. Clearly specify the size and content of all quantities involved.\n",
    "\n",
    "What assumptions are we making for the (true and noised) audio signal and the noise in order to obtain the weights of the filter $w$?\n",
    "\n",
    "Derive how can we calculate the right hand side of the Wiener-Hopf equation, assuming that we know $r_x(k), \\; \\forall k$ \n",
    "and the noise variance $\\sigma^2_v$. **(2 points)**"
   ]
  },
  {
   "cell_type": "markdown",
   "metadata": {},
   "source": [
    "### Answer 3\n",
    "\n",
    "a) \\\n",
    "$R_x \\hat{w} = r_{dx} $ \n",
    "\n",
    "\n",
    "With: \n",
    "\n",
    "1. $R_x = E[x^*(n)x(n)^T]$: covariance matrix of vector $x(n)$, it has a  size of $m \\times m$ \n",
    "\n",
    "1. $x(n)$: The vector with the received datapoints from the present ($t=n$) to $m$ values back in the past($t = n-m+1$) \n",
    "\n",
    "1. $\\hat{w}$: Vector containing the parameters of the Wiener filter (length $m$)\n",
    "\n",
    "1. $r_{dx} = E[d(n)x^*(n)]$ : The cross correlation with a zero lag of the signal of interest $d(n)$ and the received datapoints $x(n)$ from the present ($t=n$) to $m$ values back in the past ($t = n-m+1$) \n",
    "\n",
    "\n",
    "b) \\\n",
    "We assume that $v(n)$ and $d(n)$ are uncorrelated. \n",
    "\n",
    "c) \\\n",
    "$$\n",
    "\\begin{aligned}\n",
    "r_{dx} (k) &= E[d(n)\\big( v(n-k)+d(n-k) \\big)] \\\\\n",
    " &= E[d(n)\\cdot v(n-k)+ d(k) \\cdot d(n-k))] \\\\\n",
    " &= r_{dv} + r_d \\\\\n",
    " &= r_d   \\; \\; \\; \\; (r_{dv} = 0 \\; , because \\; d(n) \\; and \\; v(n) \\; uncorrelated)\n",
    "\\end{aligned}\n",
    "$$\n",
    "\n",
    "We also have:\n",
    "\n",
    "$$\n",
    "\\begin{aligned}\n",
    "r_{x} (k) &= E[\\big( v(n) + d(n) \\big) \\big( v(n-k)+d(n-k) \\big)] \\\\\n",
    " &= E[d(n)\\cdot v(n-k)+ d(k) \\cdot d(n-k) + v(n)\\cdot d(n-k) + v(n)\\cdot v(n-k)] \\\\\n",
    " &= r_{dv} + r_d  + r_{vd} + r_v \\\\\n",
    " &= r_d + r_v   \\; \\; \\; \\; (r_{dv} = r_{vd} = 0 \\; , because \\; d(n) \\; and \\; v(n) \\; uncorrelated)\n",
    "\\end{aligned}\n",
    "$$\n",
    "\n",
    "Therefore we have:  $ r_d = r_x - r_v $\n",
    "\n",
    "Since we assume $v(n)$ to be ZMWN we use $r_v(k) = \\sigma^2_v \\: \\delta(k)$ to find:\n",
    "\n",
    "$ r_d = r_x - \\sigma^2_v \\: \\delta(k)$"
   ]
  },
  {
   "cell_type": "markdown",
   "metadata": {},
   "source": [
    "## Question 4\n",
    "\n",
    "Estimate the mean and variance ($\\sigma^2_v$) of the measured noise. Print these estimates. **(1 point)**"
   ]
  },
  {
   "cell_type": "markdown",
   "metadata": {},
   "source": [
    "### Answer 4\n",
    "\n",
    "$\\hat{m}_v = -0.713$\n",
    "\n",
    "$\\hat{\\sigma}^2_v = 9.94 \\cdot 10^5$"
   ]
  },
  {
   "cell_type": "code",
   "execution_count": null,
   "metadata": {},
   "outputs": [],
   "source": [
    "# estimate the mean and variance of the measured noise\n",
    "from IPython.display import display, Math\n",
    "\n",
    "noise_mean = np.average(noise_measured)\n",
    "noise_var = np.average((noise_measured-noise_mean)**2)\n",
    "\n",
    "display(Math((r'\\hat{m}_v = %.3e,  \\; \\; \\hat{\\sigma}^2_v = %.3e' %(noise_mean, noise_var))))"
   ]
  },
  {
   "cell_type": "markdown",
   "metadata": {},
   "source": [
    "## Question 5\n",
    "\n",
    "1. Assuming the audio signals are ergodic, calculate the auto-correlation function $r_x(k)$ of every received audio signal for lags $0,\\dots,9$. Print these values. **(2 points)**\n",
    "\n",
    "2. Calculate the cross-correlation function $r_{dx}(k)$ of every received audio signal for lags $0,\\dots,9$. Print these values. **(1 point)**\n",
    "\n",
    "3. Using the formula below, compute and plot the auto-correlation of the noise $v(n)$ for lags $0,\\dots,9$. Is the noise ZMWN? Explain your answer. **(1 point)**\n",
    "\n",
    "**Note:** if the signal $x(n)$ is auto-correlation ergodic,\n",
    "the auto-correlation function $r_x(k)$ can be estimated as\n",
    "(if we have only values $x_1, x_2, \\dots, x_N$):\n",
    "$$\n",
    "    r_x(k) = \\frac{1}{N-k} \\sum_{i=k+1}^{N} x(i) x^*(i-k)\n",
    "$$"
   ]
  },
  {
   "cell_type": "markdown",
   "metadata": {},
   "source": [
    "### Answer 5\n",
    "\n",
    "Click here to type your answer. Type *Markdown* and LaTeX: $\\alpha^2$."
   ]
  },
  {
   "cell_type": "code",
   "execution_count": null,
   "metadata": {},
   "outputs": [],
   "source": [
    "# calculating the auto-correlation function for the audio signals\n",
    "from tabulate import tabulate\n",
    "\n",
    "\n",
    "X = data_noised\n",
    "r_x = np.zeros((3,10))\n",
    "\n",
    "for i in range(10):\n",
    "    k = i\n",
    "    N = len(data_noised[0])\n",
    "    r_x[:,i] = 1/(N-k) *np.sum(X[:,k:]*X[:,:(N-k)], axis=1)\n",
    "    \n",
    "plt.plot(r_x.T)\n",
    "table = np.zeros((10,4))\n",
    "table[:,1:] = r_x.T\n",
    "table[:,0] = np.arange(10)\n",
    "Headers = [\"k\",\"50cm\",\"100cm\",\"200cm\"]\n",
    "print(\"Table for r_x(k) \\n\")\n",
    "print(tabulate(table, headers=Headers))"
   ]
  },
  {
   "cell_type": "code",
   "execution_count": null,
   "metadata": {},
   "outputs": [],
   "source": [
    "# calculating the auto-correlation function for the noise\n",
    "X = noise_measured\n",
    "r_v = np.zeros(10)\n",
    "\n",
    "for i in range(10):\n",
    "    k = i\n",
    "    N = len(noise_measured)\n",
    "    r_v[i] = 1/(N-k) *np.sum(X[k:]*X[:(N-k)])\n",
    "    \n",
    "table = np.zeros((10,2))\n",
    "table[:,1] = r_v.T\n",
    "table[:,0] = np.arange(10)\n",
    "Headers = [\"k\",\"r_v(k)\"]\n",
    "print(\"Table for r_v(k) \\n\")\n",
    "print(tabulate(table, headers=Headers))"
   ]
  },
  {
   "cell_type": "code",
   "execution_count": null,
   "metadata": {},
   "outputs": [],
   "source": [
    "# calculating the cross-correlation function r_dx\n",
    "r_dx = np.zeros((3,10))\n",
    "\n",
    "for i in range(10):\n",
    "    r_dx[:,i] = r_x[:,i]- r_v[i]\n",
    "    \n",
    "table = np.zeros((10,4))\n",
    "table[:,1:] = r_dx.T\n",
    "table[:,0] = np.arange(10)\n",
    "Headers = [\"k\",\"50cm\",\"100cm\",\"200cm\"]\n",
    "print(\"Table for r_dx(k) \\n\")\n",
    "print(tabulate(table, headers=Headers))"
   ]
  },
  {
   "cell_type": "markdown",
   "metadata": {},
   "source": [
    "## Question 6\n",
    "\n",
    "Using a 10-th order FIR Wiener filter, calculate the optimal filter coefficients for every received audio signal. Print these values. **(2 points)**\n",
    "\n",
    " **Hint:** The `scipy.linalg.toeplitz()` function may be useful."
   ]
  },
  {
   "cell_type": "markdown",
   "metadata": {},
   "source": [
    "### Answer 6\n",
    "\n",
    "Click here to type your answer. Type *Markdown* and LaTeX: $\\alpha^2$."
   ]
  },
  {
   "cell_type": "code",
   "execution_count": null,
   "metadata": {},
   "outputs": [],
   "source": [
    "# obtaining the optimal Wiener filter coefficients\n",
    "import scipy.linalg as lin\n",
    "\n",
    "#Assuming we rewrite Wiener-Hopf so solve for the \\hat{w} vector\n",
    "\n",
    "r_x_50 = r_x[0]\n",
    "r_dx_50 = r_dx[0]\n",
    "\n",
    "Rx = lin.toeplitz(r_x_50, r_x_50)\n",
    "w_50 = np.dot(lin.inv(Rx), r_dx_50)\n",
    "\n",
    "r_x_100 = r_x[1]\n",
    "r_dx_100 = r_dx[1]\n",
    "\n",
    "Rx = lin.toeplitz(r_x_100, r_x_100)\n",
    "w_100 = np.dot(lin.inv(Rx), r_dx_100)\n",
    "\n",
    "r_x_200 = r_x[2]\n",
    "r_dx_200 = r_dx[2]\n",
    "\n",
    "Rx = lin.toeplitz(r_x_200, r_x_200)\n",
    "w_200 = np.dot(lin.inv(Rx), r_dx_200)\n",
    "\n",
    "W = np.zeros((3,10))\n",
    "W[0,:], W[1,:], W[2,:] = w_50, w_100, w_200\n",
    "\n",
    "table = np.zeros((4,10))\n",
    "table[0,:] = np.arange(10)\n",
    "table[1:,:] = W\n",
    "\n",
    "Headers = [\"k\",\"50cm\",\"100cm\",\"200cm\"]\n",
    "print(\"Table for\")\n",
    "print(tabulate(table.T, headers=Headers))\n",
    "\n",
    "\n",
    "\n"
   ]
  },
  {
   "cell_type": "markdown",
   "metadata": {},
   "source": [
    "## Question 7\n",
    "\n",
    "Using the computed filter coefficients, compute an estimate of the denoised audio signals from the received ones.\n",
    "Plot together the denoised signal with the originally received one.\n",
    "Create one plot for every audio signal.\n",
    "\n",
    "Use the *play_signal()* function to play the denoised signals - do you hear the difference between the originally received and the denoised one? **(3 points)**\n",
    "\n",
    "**Hint:** the *scipy.signal.lfilter()* function can be useful when using the Wiener filter. You can compare your solution to the *scipy.signal.wiener()* function, which uses its own estimate of the noise instead of the noise measurement. Do you notice any differences?"
   ]
  },
  {
   "cell_type": "markdown",
   "metadata": {},
   "source": [
    "### Answer 7\n",
    "\n",
    "Click here to type your answer. Type *Markdown* and LaTeX: $\\alpha^2$."
   ]
  },
  {
   "cell_type": "code",
   "execution_count": null,
   "metadata": {},
   "outputs": [],
   "source": [
    "# applying the Wiener filter to the problem\n",
    "import scipy.signal as sig\n",
    "\n",
    "signal_denoised_50 = sig.lfilter(w_50, 1, data_noised[0])\n",
    "signal_denoised_100 = sig.lfilter(W[1,:], 1, data_noised[1])\n",
    "signal_denoised_200 = sig.lfilter(W[2,:], 1, data_noised[2])\n",
    "\n",
    "# compare Scipy Wiener function to manually determination of Wiener constants\n",
    "w_wiener_50 = sig.wiener(data_noised[0], 10)\n",
    "w_wiener_100 = sig.wiener(data_noised[0], 10,)\n",
    "w_wiener_200 = sig.wiener(data_noised[0], 10,)"
   ]
  },
  {
   "cell_type": "code",
   "execution_count": null,
   "metadata": {},
   "outputs": [],
   "source": [
    "# listen the noised and denoised audio signals\n",
    "import time\n",
    "\n",
    "# index of the experiment that we want to hear\n",
    "ind_to_hear = 2\n",
    "\n",
    "# signal with noise\n",
    "play_signal( data_noised[0] )\n",
    "\n",
    "# timer to wait for some time between sounds\n",
    "time.sleep(3)\n",
    "\n",
    "# denoised signal\n",
    "play_signal(signal_denoised_50)"
   ]
  },
  {
   "cell_type": "code",
   "execution_count": null,
   "metadata": {},
   "outputs": [],
   "source": [
    "# plot the noised and denoised signals together\n",
    "# plot the noised and denoised signals together\n",
    "fig,ax = plt.subplots(3,1, sharex=True, dpi=250)\n",
    "plt.tight_layout()\n",
    "fig.set_figwidth(15)\n",
    "fig.set_figheight(20)\n",
    "\n",
    "#plot for distance of 50 cm:\n",
    "ax[0].plot(data_noised[0], label= 'noised signal', linewidth=0.5)\n",
    "ax[0].plot(signal_denoised_50, label= 'manually denoised signal', linewidth=0.5)\n",
    "#ax[0].plot(denoised_50_sci, label= 'Scipy denoised signal', linewidth=0.5)\n",
    "ax[0].legend()\n",
    "ax[0].set_ylabel('dB-FS')\n",
    "ax[0].set_title('Transmission distance = 50 cm')\n",
    "\n",
    "#plot for distance of 100 cm:\n",
    "ax[1].plot(data_noised[1], label= 'noised signal', linewidth=0.5)\n",
    "ax[1].plot(signal_denoised_100, label= 'manually denoised signal', linewidth=0.5)\n",
    "#ax[1].plot(denoised_100_sci, label= 'Scipy denoised signal', linewidth=0.5)\n",
    "ax[1].legend()\n",
    "ax[1].set_ylabel('dB-FS')\n",
    "ax[1].set_title('Transmission distance = 100 cm')\n",
    "\n",
    "#plot for distance of 200 cm:\n",
    "ax[2].plot(data_noised[2], label= 'noised signal', linewidth=0.5)\n",
    "ax[2].plot(signal_denoised_200, label= 'manually denoised signal', linewidth=0.5)\n",
    "#ax[2].plot(denoised_200_sci, label= 'Scipy denoised signal', linewidth=0.5)\n",
    "ax[2].legend()\n",
    "ax[2].set_ylabel('dB-FS')\n",
    "ax[2].set_title('Transmission distance = 200 cm')"
   ]
  },
  {
   "cell_type": "markdown",
   "metadata": {},
   "source": [
    "## Question 8\n",
    "\n",
    "1. To investigate the effect of the filter order on the denoising, vary the filter order between $m = 2$ and $m = 20$. \n",
    "   For what distance and for what filter order do you have the best denoised audio signal? Justify your answer. **(1 point)**\n",
    "   \n",
    "2. Denote the best denoised signal from item \"a.\" as $d(n)$, and calculate the cost function $J$ of the Wiener problem assuming this signal is the ground truth. Print best filter order and the its respective cost function value for every received denoised audio signal. **(1 point)**\n",
    "   \n",
    "3. Plot the filter order (from $m=2$ to $m=20$) versus cost function value for all received signals. **(1 point)**"
   ]
  },
  {
   "cell_type": "markdown",
   "metadata": {},
   "source": [
    "### Answer 8\n",
    "\n",
    "We suspect that the best filtereing is for the highest order Wiener filter for the largest distance because the noise to data ratio is the highest. So its easiest to filter the noise."
   ]
  },
  {
   "cell_type": "code",
   "execution_count": null,
   "metadata": {},
   "outputs": [],
   "source": [
    "# use different Wiener filter orders\n",
    "#For the 50cm signal\n",
    "x = data_noised[0]\n",
    "r_x = np.zeros(20)\n",
    "r_v = np.zeros(20)\n",
    "r_dx = np.zeros(20)\n",
    "\n",
    "N1 = len(x)\n",
    "N2 = len(noise_measured)\n",
    "\n",
    "\n",
    "for i in range(20):\n",
    "    k = i\n",
    "    r_x[i] = 1/(N1-k) *np.sum(x[k:]*x[:(N1-k)])\n",
    "    r_v[i] = 1/(N2-k) *np.sum(noise_measured[k:]*noise_measured[:(N2-k)])\n",
    "    r_dx[i] = r_x[i]- r_v[i]\n",
    "    \n",
    "    \n",
    "Rx = lin.toeplitz(r_x, r_x)\n",
    "WW = np.dot(lin.inv(Rx), r_dx)\n",
    "\n",
    "\n",
    "#Signals, Matrix of 18 rows where row+2 filters are used\n",
    "\n",
    "Signals_50 = np.zeros((19,len(x)))\n",
    "for i in range(2,21,1):\n",
    "    Signals_50[i-2,:] = sig.lfilter(WW[0:i+1], 1, x)\n",
    "    \n",
    "cost_w_50 = np.zeros(19)\n",
    "\n",
    "for i in range(19):\n",
    "    cost_w_50[i] = r_dx[0] - np.dot( np.dot(r_dx[0:i+2].T, lin.inv(lin.toeplitz(r_x[0:i+2], r_x[0:i+2]))), r_dx[0:i+2])\n",
    "\n",
    "\n",
    "    \n",
    "# use different Wiener filter orders\n",
    "#For the 100cm signal\n",
    "x = data_noised[1]\n",
    "r_x = np.zeros(20)\n",
    "r_v = np.zeros(20)\n",
    "r_dx = np.zeros(20)\n",
    "\n",
    "N1 = len(x)\n",
    "N2 = len(noise_measured)\n",
    "\n",
    "\n",
    "for i in range(20):\n",
    "    k = i\n",
    "    r_x[i] = 1/(N1-k) *np.sum(x[k:]*x[:(N1-k)])\n",
    "    r_v[i] = 1/(N2-k) *np.sum(noise_measured[k:]*noise_measured[:(N2-k)])\n",
    "    r_dx[i] = r_x[i]- r_v[i]\n",
    "    \n",
    "    \n",
    "Rx = lin.toeplitz(r_x, r_x)\n",
    "WW = np.dot(lin.inv(Rx), r_dx)\n",
    "\n",
    "\n",
    "#Signals, Matrix of 18 rows where row+2 filters are used\n",
    "\n",
    "Signals_100 = np.zeros((19,len(x)))\n",
    "for i in range(2,21,1):\n",
    "    Signals_100[i-2,:] = sig.lfilter(WW[0:i+1], 1, x)\n",
    "    \n",
    "cost_w_100 = np.zeros(19)\n",
    "\n",
    "for i in range(19):\n",
    "    cost_w_100[i] = r_dx[0] - np.dot( np.dot(r_dx[0:i+2].T, lin.inv(lin.toeplitz(r_x[0:i+2], r_x[0:i+2]))), r_dx[0:i+2])\n",
    "\n",
    "\n",
    "    \n",
    "# use different Wiener filter orders\n",
    "#For the 200cm signal\n",
    "x = data_noised[2]\n",
    "r_x = np.zeros(20)\n",
    "r_v = np.zeros(20)\n",
    "r_dx = np.zeros(20)\n",
    "\n",
    "N1 = len(x)\n",
    "N2 = len(noise_measured)\n",
    "\n",
    "\n",
    "for i in range(20):\n",
    "    k = i\n",
    "    r_x[i] = 1/(N1-k) *np.sum(x[k:]*x[:(N1-k)])\n",
    "    r_v[i] = 1/(N2-k) *np.sum(noise_measured[k:]*noise_measured[:(N2-k)])\n",
    "    r_dx[i] = r_x[i]- r_v[i]\n",
    "    \n",
    "    \n",
    "Rx = lin.toeplitz(r_x, r_x)\n",
    "WW = np.dot(lin.inv(Rx), r_dx)\n",
    "\n",
    "\n",
    "#Signals, Matrix of 18 rows where row+2 filters are used\n",
    "\n",
    "Signals_200 = np.zeros((19,len(x)))\n",
    "for i in range(2,21,1):\n",
    "    Signals_200[i-2,:] = sig.lfilter(WW[0:i+1], 1, x)\n",
    "    \n",
    "cost_w_200 = np.zeros(19)\n",
    "\n",
    "for i in range(19):\n",
    "    cost_w_200[i] = r_dx[0] - np.dot( np.dot(r_dx[0:i+2].T, lin.inv(lin.toeplitz(r_x[0:i+2], r_x[0:i+2]))), r_dx[0:i+2])\n",
    "\n",
    "\n",
    "    \n"
   ]
  },
  {
   "cell_type": "code",
   "execution_count": null,
   "metadata": {},
   "outputs": [],
   "source": [
    "# plot the best denoised signal, which we will take to be the ground truth\n",
    "plt.plot(Signals_200[-1,:])\n",
    "\n",
    "d_n = Signals_200[-1]"
   ]
  },
  {
   "cell_type": "code",
   "execution_count": null,
   "metadata": {},
   "outputs": [],
   "source": [
    "# play the audio signal that is considered as ground truth\n",
    "play_signal(Signals[-1,:])"
   ]
  },
  {
   "cell_type": "code",
   "execution_count": null,
   "metadata": {},
   "outputs": [],
   "source": [
    "# calculating the cost function for the best signal\n",
    "display(Math(\"J(\\hat{w})\\; for \\; \\hat{d}(n) \\; is:\"))\n",
    "print(\"{:3e}\".format(cost_w_200[-1]))"
   ]
  },
  {
   "cell_type": "code",
   "execution_count": null,
   "metadata": {},
   "outputs": [],
   "source": [
    "\n",
    "# plot cost functions as a function of the filter order\n",
    "xaxis = np.arange(19)+2\n",
    "yaxis_50 = cost_w_50\n",
    "yaxis_100 = cost_w_100\n",
    "yaxis_200 = cost_w_200\n",
    "\n",
    "plt.scatter(xaxis, yaxis_50, marker=\"x\", color='red', label=r\"$J(\\hat{w})$ $50cm$\")\n",
    "plt.scatter(xaxis, yaxis_100, marker=\".\", color='black', label=r\"$J(\\hat{w})$ $100cm$\")\n",
    "plt.scatter(xaxis, yaxis_200, marker=\"2\", color='blue',label=r\"$J(\\hat{w})$ $200cm$\")\n",
    "plt.gcf().set_size_inches(10,7)\n",
    "plt.legend()\n",
    "plt.xticks(np.arange(21));\n",
    "plt.ylabel(r\"$J(\\hat{w})$\");\n",
    "plt.xlabel(r\"Filter order $(m)$\");"
   ]
  },
  {
   "cell_type": "markdown",
   "metadata": {},
   "source": [
    "## Question 9 (bonus)\n",
    "This is an **optional** bonus question, in which you can earn bonus points to make up for any points you lost earlier during this exercise. Note that if you already have the maximum amount of points for this exercise (i.e. grade 10), any additional bonus points will be ignored (that is, they do not carry over to other exercises or the exam).\n",
    "\n",
    "In this bonus question, we will characterize the signal over distance dependency by computing the signal-to-noise-ratio (SNR). For that:\n",
    "1. Calculate the periodogram $P_d$ using the denoised audio signals only for the highest filter order from Question 8.\n",
    "Calculate the periodogram $P_x$ using the noised audio signals (see section \"*5.2.8 WSS Processes in the Frequency Domain*\" in the lecture notes). Plot the **denoised** estimated power spectra. **(2 bonus points)**\n",
    "**Hint:** be careful with the indexing. You can use *numpy.fft.fft()* and *numpy.fft.fftfreq()* functions.\n",
    "          \n",
    "2. SNR is the ratio between the **ground truth** audio signal energy and the noise energy.\n",
    "The energy can be calculated as $E = \\int_{-\\infty}^{+\\infty} P d\\omega$. Approximating the integral by finite sum, calculate\n",
    "\n",
    "   (a) the SNR of the denoised audio signals; \n",
    "\n",
    "   (b) the SNR of the noised audio signals. This can be done by relating the power spectrum of the noised signal with the power spectrum of the ground truth signal.\n",
    "\n",
    "   In a single figure, plot these SNR values versus distance. **(2 bonus points)**\n",
    "\n",
    "\n",
    "3. Are the graphs different? Explain why. **(1 bonus point)**"
   ]
  },
  {
   "cell_type": "markdown",
   "metadata": {},
   "source": [
    "### Answer 9\n",
    "\n",
    "Click here to type your answer. Type *Markdown* and LaTeX: $\\alpha^2$."
   ]
  },
  {
   "cell_type": "code",
   "execution_count": null,
   "metadata": {},
   "outputs": [],
   "source": [
    "import scipy.integrate as integrate"
   ]
  },
  {
   "cell_type": "code",
   "execution_count": null,
   "metadata": {},
   "outputs": [],
   "source": [
    "# calculating the periodogram for denoised audio signals\n",
    "# and noised audio signals\n",
    "# (estimation of the power spectrum)\n",
    "\n",
    "import scipy.integrate as integrate\n",
    "import numpy.fft as fft\n",
    "\n",
    "# some usefule parameters\n",
    "x50 = data_noised[0]\n",
    "x100 = data_noised[1]\n",
    "x200 = data_noised[2]\n",
    "\n",
    "d50 = Signals_50[18,:]\n",
    "d100 = Signals_100[18,:]\n",
    "d200 = Signals_200[18,:]\n",
    "\n",
    "L = len(x50)\n",
    "freq_unshifted = fft.fftfreq(L)\n",
    "freq = fft.fftshift(fft.fftfreq(L))\n",
    "\n",
    "\n",
    "# calculating the periodogram for denoised audio signals\n",
    "D50 = fft.fft(d50)\n",
    "P_D50 = 1/(2*len(d50)+1)*(D50*np.conj(D50))\n",
    "E_D50 = integrate.simps(P_D50,freq)\n",
    "\n",
    "\n",
    "D100 = fft.fft(d100)\n",
    "P_D100 = 1/(2*len(d100)+1)*(D100*np.conj(D100))\n",
    "E_D100 = integrate.simps(P_D100,freq)\n",
    "\n",
    "D200 = fft.fft(d200)\n",
    "P_D200 = 1/(2*len(d200)+1)*(D200*np.conj(D200))\n",
    "E_D200 = integrate.simps(P_D200,freq)\n",
    "\n",
    "# Calculate periodograms for noised audio signals\n",
    "\n",
    "X50 = fft.fft(x50)\n",
    "P_X50 = 1/(2*len(x50)+1)*(X50*np.conj(X50))\n",
    "E_X50 = integrate.simps(P_X50,freq)\n",
    "\n",
    "\n",
    "X100 = fft.fft(x100)\n",
    "P_X100 = 1/(2*len(x100)+1)*(X100*np.conj(X100))\n",
    "E_X100 = integrate.simps(P_X100,freq)\n",
    "\n",
    "print(E_X100)\n",
    "\n",
    "X200 = fft.fft(x200)\n",
    "P_X200 = 1/(2*len(x200)+1)*(X200*np.conj(X200))\n",
    "E_X200 = integrate.simps(P_X200,freq)"
   ]
  },
  {
   "cell_type": "code",
   "execution_count": null,
   "metadata": {
    "scrolled": false
   },
   "outputs": [],
   "source": [
    "# plot power spectrum values\n",
    "# plot power spectrum values\n",
    "import matplotlib\n",
    "matplotlib.rcParams[\"figure.dpi\"] = 200\n",
    "\n",
    "plt.plot(freq_unshifted[0:int(len(P_D50)/2)], P_D50[0:int(len(P_D50)/2)], label= '50 cm', linewidth=1);\n",
    "plt.plot(freq_unshifted[0:int(len(P_D100)/2)], P_D100[0:int(len(P_D100)/2)],color=\"black\", label= '100 cm', linewidth=3);\n",
    "plt.plot(freq_unshifted[0:int(len(P_D200)/2)], P_D200[0:int(len(P_D200)/2)], label= '200 cm', linewidth=1.5);\n",
    "plt.title('Power spectra for manually denoised signals for different transmission distances');\n",
    "plt.xlim([0,0.1])\n",
    "plt.semilogy()\n",
    "plt.legend();\n",
    "plt.show()"
   ]
  },
  {
   "cell_type": "code",
   "execution_count": null,
   "metadata": {},
   "outputs": [],
   "source": [
    "# plot the SNR over distance\n",
    "#define noise as e(n) = d(n) - \\hat{d}(n)\n",
    "\n",
    "Noise = fft.fft(noise_measured)\n",
    "Noise_freq = fft.fftfreq(len(noise_measured))\n",
    "PNoise = 1/(2*len(noise_measured)+1)*(Noise*np.conj(Noise))\n",
    "E_noise = integrate.simps(fft.fftshift(PNoise),fft.fftshift(Noise_freq))\n",
    "\n",
    "SNR_D = np.asarray([E_D50, E_D100, E_D200])/E_noise\n",
    "SNR_X = np.asarray([E_X50, E_X100, E_X200])/E_noise\n",
    "\n",
    "print(SNR_50)\n"
   ]
  },
  {
   "cell_type": "code",
   "execution_count": null,
   "metadata": {},
   "outputs": [],
   "source": [
    "xdist = [50,100,200]\n",
    "\n",
    "plt.plot(xdist, SNR_D, label=r\"SNR $d(n)$\")\n",
    "plt.plot(xdist, SNR_X, label=r\"SNR $x(n)$\")\n",
    "plt.legend()\n",
    "plt.semilogy()\n",
    "plt.xlabel(\"distance\")"
   ]
  },
  {
   "cell_type": "markdown",
   "metadata": {},
   "source": [
    "We can see that the graphs are not the same, we assume this is because the filtered signal $d(n)$ has a lower Power spectrum since we filtered its noise (the power from the noise doesnt contribute anymore). Since we still divide it by the power of the pure noise the fraction is lower than that of the unfiltered signal that still has power from the white noise."
   ]
  }
 ],
 "metadata": {
  "kernelspec": {
   "display_name": "ssa-env",
   "language": "python",
   "name": "ssa-env"
  },
  "language_info": {
   "codemirror_mode": {
    "name": "ipython",
    "version": 3
   },
   "file_extension": ".py",
   "mimetype": "text/x-python",
   "name": "python",
   "nbconvert_exporter": "python",
   "pygments_lexer": "ipython3",
   "version": "3.8.5"
  }
 },
 "nbformat": 4,
 "nbformat_minor": 2
}

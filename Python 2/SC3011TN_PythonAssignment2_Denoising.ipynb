{
 "cells": [
  {
   "cell_type": "markdown",
   "metadata": {},
   "source": [
    "# SC3011TN - Stochastische Signaalanalyse - 2020/2021\n",
    "\n",
    "## Python Template\n",
    "\n",
    "This is the template for for the second Python assignment given in the course SC3011TN. In this exercise, we will use a FIR Wiener filter to denoise signals, which were obtained by sending and recording with Arduino microcontrollers. Due to the COVID-measures, we can sadly not allow you to record signals yourself, so this year we have recorded signals for you and you are tasked solely with filtering the signals. Use this template to answer the questions. \n",
    "\n",
    "### How to use the template\n",
    "As you will see there are two types of cells in this Jupyter Notebook, **Python** cells indicated with `In [ ]:` and **Markdown** cells that have no marking to the left of the cell. For the **Markdown** cells you have to click on the text itself (indicated throughout the text with 'Click here to type your answer').\n",
    "\n",
    "1. The **Python** cells work in the usual way, enter your code and press `Shift Enter` to run the cell, the output will be displayed below the cell. Variables and functions will be accessible by the other cells after you have run the code. \n",
    "\n",
    "2. The **Markdown** cells use the **Markdown** type setting language. This is a very simple type setting system. Check the [Cheatsheet](https://github.com/adam-p/markdown-here/wiki/Markdown-Cheatsheet) for a overview of the comments. Furthermore, **Markdown** works with **LaTeX** math, `$ $` for inline equations and `$$ $$` for centered equations. Press `Shift Enter` to compile the text.\n",
    "\n",
    "After you have answered the questions and are finished with the assignment, you can export the **Jupyter Notebook** as a PDF. Go to the top left, click on `File` then `Download As` and Choose **PDF**. If this feature is not supported by your system, you can also choose **LaTeX**. Then you Download a **LaTeX** project. You can then use your preferred **LaTeX** compiler to create the **PDF**.   \n",
    "\n",
    "**NB: Please remove this part of the notebook before submitting in your assignment**"
   ]
  },
  {
   "cell_type": "markdown",
   "metadata": {},
   "source": [
    "# Group details\n",
    "\n",
    " **Student 1**:\n",
    " \n",
    "     Name: ...\n",
    "     \n",
    "     Student number: ...\n",
    "\n",
    " **Student 2**: \n",
    " \n",
    "     Name: ... \n",
    "     \n",
    "     Student number: ...\n",
    "\n",
    " **Date of completion**: ..."
   ]
  },
  {
   "cell_type": "markdown",
   "metadata": {},
   "source": [
    "## Introduction\n",
    "\n",
    "In this exercise, we consider an RF communication system consisting of an emitter and a receiver.\n",
    "Interference originating from the RF environment and from thermal noise of the system cause signal degradation at the receiver.\n",
    "Since the nature of these aberrations is stochastic, Wiener filtering can be used to subtract the effects of the distortion.\n",
    "\n",
    "In the configuration of the figure below, all signals are discrete-time and real.\n",
    "The corrupted signal $x(n) = d(n) + v(n)$ contains both the signal of interest $d(n)$ and noise $v(n)$, which is uncorrelated to d(n).\n",
    "In this assignment you will design a FIR filter $W(z)$, used to estimate the ground truth signal from $x(n)$ and from the statistical properties of the noise.\n",
    "\n",
    "![alt text][anc]\n",
    "\n",
    "[anc]: ./denoising-scheme.JPG"
   ]
  },
  {
   "cell_type": "markdown",
   "metadata": {},
   "source": [
    "## Reporting\n",
    "\n",
    "\n",
    "You are required to hand-in a report, showing your results and answering the questions about this exercise. Python scripts should be included as text in your report. Do not forget to change the amount of interacting stars according to your student number, as no points can be awarded otherwise.\n",
    "\n",
    "To help you with reporting, you can use this Jupyter notebook as your report. We strongly encourage using the notebook, as hints are already provided for you. After you have answered the questions and are finished with the assignment, you can export the Jupyter notebook as a PDF (File > Download as > LaTeX or PDF).\n",
    "\n",
    "The report or exported Jupyter notebook should be dated and handed in before the deadline (see Course Schedule on Brightspace). The report should be handed in digitally by only one group member, but make sure the names and student numbers of all group members are included in the report or exported Jupyter notebook."
   ]
  },
  {
   "cell_type": "markdown",
   "metadata": {},
   "source": [
    "## First steps\n",
    "\n",
    "Make sure that the files `Audio.py`, `Communication.py` and `denoising-scheme.jpg`, as well as the recorded signals `gong_5cm.mat`, `gong_100cm.mat`, `gong_250cm.mat` and `noise.mat` are included in the same directory as this Jupyter notebook. Run the following code:"
   ]
  },
  {
   "cell_type": "code",
   "execution_count": 1,
   "metadata": {
    "scrolled": true
   },
   "outputs": [
    {
     "name": "stdout",
     "output_type": "stream",
     "text": [
      "Collecting pyserial\n",
      "  Downloading pyserial-3.5-py2.py3-none-any.whl (90 kB)\n",
      "\u001b[K     |████████████████████████████████| 90 kB 8.3 MB/s  eta 0:00:01\n",
      "\u001b[?25hInstalling collected packages: pyserial\n",
      "Successfully installed pyserial-3.5\n",
      "Collecting sounddevice\n",
      "  Downloading sounddevice-0.4.1-py3-none-any.whl (31 kB)\n",
      "Requirement already satisfied: CFFI>=1.0 in /mnt/c/Users/Jeroe/Documents/TU Delft/SC3011TN/Python I/ssa-env/lib/python3.8/site-packages (from sounddevice) (1.14.5)\n",
      "Requirement already satisfied: pycparser in /mnt/c/Users/Jeroe/Documents/TU Delft/SC3011TN/Python I/ssa-env/lib/python3.8/site-packages (from CFFI>=1.0->sounddevice) (2.20)\n",
      "Installing collected packages: sounddevice\n",
      "Successfully installed sounddevice-0.4.1\n",
      "Collecting scipy\n",
      "  Downloading scipy-1.6.1-cp38-cp38-manylinux1_x86_64.whl (27.3 MB)\n",
      "\u001b[K     |████████████████████████████████| 27.3 MB 13.3 MB/s eta 0:00:01\n",
      "\u001b[?25hCollecting numpy>=1.16.5\n",
      "  Using cached numpy-1.20.1-cp38-cp38-manylinux2010_x86_64.whl (15.4 MB)\n",
      "Installing collected packages: numpy, scipy\n",
      "Successfully installed numpy-1.20.1 scipy-1.6.1\n"
     ]
    }
   ],
   "source": [
    "! pip install pyserial\n",
    "! pip install sounddevice\n",
    "! pip install scipy"
   ]
  },
  {
   "cell_type": "markdown",
   "metadata": {},
   "source": [
    "**Note:** You only need to execute this code snippet once, after that your python will permanently include the modules. If the the code gives an error, manually install the modules using pip in the command prompt. In Windows: start button->search, type cmd->`pip install package_name`"
   ]
  },
  {
   "cell_type": "markdown",
   "metadata": {},
   "source": [
    "# Obtaining the data\n",
    "\n",
    "In this section, you will import data from the transmission experiment, described in the introduction. As the COVID-measures prevent us from letting you record your own signals, we have done the experiment for you and we provide you with the raw recordings. Before doing so, we describe the experimental setup that we used to record the signals. The experimental setup is shown in the figure below. \n",
    "\n",
    "![alt text][anc]\n",
    "\n",
    "[anc]: ./experimentalsetup.png\n",
    "\n",
    "For this experiment, two Arduino MK1000's are used. These Arduino microcontrollers are able to send and receive signals through radio frequency (RF) wireless transmission. As such, the first microcontroller is configured as a sender, used to send a wav-file `gong.wav`. The second microcontroller is configured as a receiver and it is linked to the sender. By simultaneously activating both microcontrollers, the receiver will record the signal sent by the sender.\n",
    "\n",
    "However, the signal transmission is affected by RF noise. Examples of sources of this noise are disturbances in the RF band, distance-dependent noise caused by the distance between the microcontrollers and thermal distortion of the signal. These noise sources act additively on the sent signal `gong.wav`. For distances of 5 cm, 100 cm and 250 cm between the microcontrollers, we recorded `gong_5cm.mat`, `gong_100cm.mat` and `gong_250cm.mat` respectively, which you can listen to later in this assignment.\n",
    "\n",
    "To filter the noise from the signal using denoising, we also need a\n",
    "recording of the noise for every distance of 5 cm, 100 cm and 250 cm\n",
    "between the microcontrollers. The total noise has a complicated spectrum, so to save\n",
    "you some mathematical work we solely focus on ambient,\n",
    "distance-independent noise. This noise is assumed to be zero-mean and white, and a measurement of this noise is contained in `noise.mat`.\n",
    "\n",
    "NB. The recorded values in `gong_5cm.mat`, `gong_100cm.mat`, `gong_250cm.mat` and `noise.mat` are expressed in decibels relative to full scale (dB-FS), which is a unit used to expressed signal amplitudes in digital systems.\n",
    "\n",
    "With these signals, you have enough information to calculate the weights of a FIR Wiener filter. This assignment will guide you through this process."
   ]
  },
  {
   "cell_type": "markdown",
   "metadata": {},
   "source": [
    "### Play the signal"
   ]
  },
  {
   "cell_type": "markdown",
   "metadata": {},
   "source": [
    "During the assignment, you will want to listen to the raw and filtered signals. The function `play_signal` can be used for this. Run the cell below to define the function."
   ]
  },
  {
   "cell_type": "code",
   "execution_count": 75,
   "metadata": {},
   "outputs": [],
   "source": [
    "#import sounddevice as sim\n",
    "import sounddevice as sd\n",
    "\n",
    "# function for playing a signal\n",
    "# You can use it further if you want to listen smth\n",
    "\n",
    "def play_signal( signal ):\n",
    "    sd.play( signal.astype('int16'), 22050 )"
   ]
  },
  {
   "cell_type": "markdown",
   "metadata": {},
   "source": [
    "### Loading files\n",
    "\n",
    "\n",
    "Run this section in order to load the .mat files with the noise audios and the background noise signals."
   ]
  },
  {
   "cell_type": "code",
   "execution_count": 2,
   "metadata": {},
   "outputs": [
    {
     "name": "stdout",
     "output_type": "stream",
     "text": [
      "Number of experiments = 3\n",
      "\n",
      "N = 65411\n"
     ]
    }
   ],
   "source": [
    "# packages\n",
    "import numpy as np\n",
    "import matplotlib.pyplot as plt\n",
    "import scipy.io as sio\n",
    "\n",
    "# modeling distance in centimeters (cm)\n",
    "distances = np.array( [5.0, 100.0, 250.0] )\n",
    "\n",
    "# number of experiments with different distances\n",
    "N_exp = distances.shape[0]\n",
    "\n",
    "print( f'Number of experiments = {N_exp}' )\n",
    "\n",
    "# list of files for all distance experiments with audio\n",
    "filenames = ['gong_5cm.mat', 'gong_100cm.mat', 'gong_200cm.mat']\n",
    "\n",
    "# Number of data points\n",
    "N = len( sio.loadmat( filenames[0] )['audio'][0] )\n",
    "\n",
    "# create array with received audio signals\n",
    "data_noised = np.zeros( (N_exp, N), dtype=float )\n",
    "for iexp in range(N_exp):\n",
    "    data_noised[iexp] = sio.loadmat( filenames[iexp] )['audio'][0]\n",
    "\n",
    "# array for the time steps\n",
    "time_steps = np.linspace( 0, N-1, N ).astype( int )\n",
    "print( f'\\nN = {N}' )"
   ]
  },
  {
   "cell_type": "code",
   "execution_count": 3,
   "metadata": {},
   "outputs": [
    {
     "name": "stdout",
     "output_type": "stream",
     "text": [
      "Number of noise time steps = 88200\n"
     ]
    }
   ],
   "source": [
    "# load background noise signal that was measured\n",
    "\n",
    "filename_noise = 'noise.mat'\n",
    "data_mat = sio.loadmat( filename_noise )['audio'][0]\n",
    "\n",
    "Nnoise = len( data_mat )\n",
    "noise_measured = np.array( data_mat, dtype=float )\n",
    "\n",
    "print( f'Number of noise time steps = {Nnoise}' )"
   ]
  },
  {
   "cell_type": "markdown",
   "metadata": {},
   "source": [
    "# Exercises\n",
    "This part should be handled after all audio files were uploaded into *data_noised* array and the noise was uploaded into *noise_measured* file."
   ]
  },
  {
   "cell_type": "markdown",
   "metadata": {},
   "source": [
    "## Question 1\n",
    "\n",
    "Formulate the denoising problem as a Minimum Variance FIR Wiener Problem, using the symbols $x(n)$, $v(n)$, $d(n)$, $\\hat{d}(n)$, $e(n)$ as in the figure presented in the **Introduction**. In particular\n",
    "* Explain for each variable what signal they represent\n",
    "* Write the cost function $J(W(z))$ and the optimization problem that should be solved to find the Minimum Variance FIR Wiener Filter.\n",
    "\n",
    "Note that no numerical values are required, but you need to specify the meaning of all the symbols and their relation to the sent and received data. **(2 points)**"
   ]
  },
  {
   "cell_type": "markdown",
   "metadata": {},
   "source": [
    "### Answer 1\n",
    "\n",
    "$d(n) =$ signal of interest \\\n",
    "$v(n) =$ ZMWN that corrupts received signal \\\n",
    "$x(n) =$ the signal received by the receiver \\\n",
    "$\\hat{d}(n) =$ the received signal flitered by the Wiener filter with transfer function $W(z)$ \\\n",
    "$e(n) =$ the error, it denotes the difference between the actual signal and the received signal filtered by $W(z)$\n",
    "\n",
    "Cost function: $ J(W(z)) = E[|d(n) - \\hat{d}(n)|^2]  $\n",
    "               $ = E[|e(n)|^2]  $\n",
    "\n",
    "\n",
    "\n",
    "XXX Pending XXX\n"
   ]
  },
  {
   "cell_type": "markdown",
   "metadata": {},
   "source": [
    "## Question 2\n",
    "\n",
    "Plot the received audio signals and the received noise signal. You can plot all the audio signals in the same figure, but use a separate plot for the noise signal. Do not forget to label the axes and to provide a legend. **(1 point)**\n",
    "\n",
    "NB. The recorded values in `gong_5cm.mat`, `gong_100cm.mat`, `gong_250cm.mat` and `noise.mat` are expressed in decibels relative to full scale (dB-FS)."
   ]
  },
  {
   "cell_type": "markdown",
   "metadata": {},
   "source": [
    "### Answer 2\n",
    "\n",
    "Click here to type your answer. Type *Markdown* and LaTeX: $\\alpha^2$."
   ]
  },
  {
   "cell_type": "code",
   "execution_count": 29,
   "metadata": {},
   "outputs": [
    {
     "data": {
      "text/plain": [
       "Text(0, 0.5, 'dB-FS')"
      ]
     },
     "execution_count": 29,
     "metadata": {},
     "output_type": "execute_result"
    },
    {
     "data": {
      "image/png": "[encoded data removed]",
      "text/plain": [
       "<Figure size 432x288 with 1 Axes>"
      ]
     },
     "metadata": {
      "needs_background": "light"
     },
     "output_type": "display_data"
    }
   ],
   "source": [
    "# plot noised audio signal\n",
    "\n",
    "\n",
    "plt.plot(data_noised[0]*2**(-15), label= '5 cm')\n",
    "plt.plot(data_noised[1]*2**(-15), label='100 cm')\n",
    "plt.plot(data_noised[2]*2**(-15), label='250 cm')\n",
    "plt.legend()\n",
    "plt.title('Audio signals for different transmission distances')\n",
    "plt.ylabel('dB-FS')\n",
    "\n",
    "\n",
    "\n",
    "\n",
    "\n",
    "\n"
   ]
  },
  {
   "cell_type": "code",
   "execution_count": 25,
   "metadata": {},
   "outputs": [],
   "source": [
    "# listen the noised audio signals\n",
    "# Warning to headphone users: depending on your own sound configurations, the played signal may be very loud! \n",
    "# Turn down your volume the first time you try playing a signal.\n",
    "\n",
    "ind_to_listen = 2 #Choose 0 (5 cm), 1 (100 cm) or 2 (250 cm). \n",
    "play_signal( data_noised[2] )"
   ]
  },
  {
   "cell_type": "code",
   "execution_count": 31,
   "metadata": {},
   "outputs": [
    {
     "data": {
      "text/plain": [
       "[<matplotlib.lines.Line2D at 0x19521b99b08>]"
      ]
     },
     "execution_count": 31,
     "metadata": {},
     "output_type": "execute_result"
    },
    {
     "data": {
      "image/png": "[encoded data removed]",
      "text/plain": [
       "<Figure size 432x288 with 1 Axes>"
      ]
     },
     "metadata": {
      "needs_background": "light"
     },
     "output_type": "display_data"
    }
   ],
   "source": [
    "# plot the measured noise signal\n",
    "\n",
    "plt.title('The measured noise')\n",
    "plt.plot(noise_measured)\n"
   ]
  },
  {
   "cell_type": "markdown",
   "metadata": {},
   "source": [
    "## Question 3\n",
    "\n",
    "Determine the Wiener-Hopf equation for the denoising case with filter order $m$. Clearly specify the size and content of all quantities involved.\n",
    "\n",
    "What assumptions are we making for the (true and noised) audio signal and the noise in order to obtain the weights of the filter $w$?\n",
    "\n",
    "Derive how can we calculate the right hand side of the Wiener-Hopf equation, assuming that we know $r_x(k), \\; \\forall k$ \n",
    "and the noise variance $\\sigma^2_v$. **(2 points)**"
   ]
  },
  {
   "cell_type": "markdown",
   "metadata": {},
   "source": [
    "### Answer 3\n",
    "\n",
    "$R_x \\hat{w} = r_{dx} $ \\\n",
    "\n",
    "\n",
    "\n",
    "$R_x = E[x^*(n)x(n)^T]$: covariance matrix of vector $x(n)$, it has a  size of $m \\times m$ \n",
    "\n",
    "$x(n)$: The vector with the received datapoints from the present ($t=n$) to $m$ values back in the past($t = n-m+1$) \n",
    "\n",
    "$\\hat{w}$: Vector containing the parameters of the Wiener filter (length $m$)\n",
    "\n",
    "$r_{dx} = E[d(n)x^*(n)]$ : The cross correlation with a zero lag of the signal of interest $d(n)$ and the received datapoints $x(n)$ from the present ($t=n$) to $m$ values back in the past ($t = n-m+1$) \n",
    "\n",
    "\n",
    "XXX Pending XXX"
   ]
  },
  {
   "cell_type": "markdown",
   "metadata": {},
   "source": [
    "## Question 4\n",
    "\n",
    "Estimate the mean and variance ($\\sigma^2_v$) of the measured noise. Print these estimates. **(1 point)**"
   ]
  },
  {
   "cell_type": "markdown",
   "metadata": {},
   "source": [
    "### Answer 4\n",
    "\n",
    "$\\hat{m}_v = -0.713$\n",
    "\n",
    "$\\hat{\\sigma}^2_v = 9.94 \\cdot 10^5$"
   ]
  },
  {
   "cell_type": "code",
   "execution_count": 44,
   "metadata": {},
   "outputs": [
    {
     "data": {
      "text/latex": [
       "$\\displaystyle \\hat{m}_v = -7.130e-01,  \\; \\; \\hat{\\sigma}^2_v = 9.938e+05$"
      ],
      "text/plain": [
       "<IPython.core.display.Math object>"
      ]
     },
     "metadata": {},
     "output_type": "display_data"
    }
   ],
   "source": [
    "# estimate the mean and variance of the measured noise\n",
    "from IPython.display import display, Math\n",
    "\n",
    "noise_mean = np.average(noise_measured)\n",
    "noise_var = np.average((noise_measured-noise_mean)**2)\n",
    "\n",
    "display(Math((r'\\hat{m}_v = %.3e,  \\; \\; \\hat{\\sigma}^2_v = %.3e' %(noise_mean, noise_var))))"
   ]
  },
  {
   "cell_type": "markdown",
   "metadata": {},
   "source": [
    "## Question 5\n",
    "\n",
    "1. Assuming the audio signals are ergodic, calculate the auto-correlation function $r_x(k)$ of every received audio signal for lags $0,\\dots,9$. Print these values. **(2 points)**\n",
    "\n",
    "2. Calculate the cross-correlation function $r_{dx}(k)$ of every received audio signal for lags $0,\\dots,9$. Print these values. **(1 point)**\n",
    "\n",
    "3. Using the formula below, compute and plot the auto-correlation of the noise $v(n)$ for lags $0,\\dots,9$. Is the noise ZMWN? Explain your answer. **(1 point)**\n",
    "\n",
    "**Note:** if the signal $x(n)$ is auto-correlation ergodic,\n",
    "the auto-correlation function $r_x(k)$ can be estimated as\n",
    "(if we have only values $x_1, x_2, \\dots, x_N$):\n",
    "$$\n",
    "    r_x(k) = \\frac{1}{N-k} \\sum_{i=k+1}^{N} x(i) x^*(i-k)\n",
    "$$"
   ]
  },
  {
   "cell_type": "markdown",
   "metadata": {},
   "source": [
    "### Answer 5\n",
    "\n",
    "Click here to type your answer. Type *Markdown* and LaTeX: $\\alpha^2$."
   ]
  },
  {
   "cell_type": "code",
   "execution_count": 74,
   "metadata": {},
   "outputs": [],
   "source": [
    "# calculating the auto-correlation function for the audio signals\n",
    "\n",
    "X = data_noised\n",
    "r_x = np.zeros((3,10))\n",
    "\n",
    "for i in range(10):\n",
    "    k = i\n",
    "    N = len(data_noised[0])\n",
    "    r_x[:,i] = 1/(N-k) *np.sum(X[:,k:]*X[:,:(N-k)], axis=1)"
   ]
  },
  {
   "cell_type": "code",
   "execution_count": null,
   "metadata": {},
   "outputs": [],
   "source": [
    "# calculating the cross-correlation function r_dx\n",
    "r_dx = np.zeros((3,10))\n",
    "\n",
    "for i in range(10):\n",
    "    k = i\n",
    "    N = len(data_noised[0])\n",
    "    r_x[:,i] = 1/(N-k) *np.sum(*X[:,:(N-k)], axis=1)"
   ]
  },
  {
   "cell_type": "code",
   "execution_count": null,
   "metadata": {},
   "outputs": [],
   "source": [
    "# calculating the auto-correlation function for the noise"
   ]
  },
  {
   "cell_type": "markdown",
   "metadata": {},
   "source": [
    "## Question 6\n",
    "\n",
    "Using a 10-th order FIR Wiener filter, calculate the optimal filter coefficients for every received audio signal. Print these values. **(2 points)**\n",
    "\n",
    " **Hint:** The `scipy.linalg.toeplitz()` function may be useful."
   ]
  },
  {
   "cell_type": "markdown",
   "metadata": {},
   "source": [
    "### Answer 6\n",
    "\n",
    "Click here to type your answer. Type *Markdown* and LaTeX: $\\alpha^2$."
   ]
  },
  {
   "cell_type": "code",
   "execution_count": null,
   "metadata": {},
   "outputs": [],
   "source": [
    "# obtaining the optimal Wiener filter coefficients\n",
    "import scipy.linalg as lin"
   ]
  },
  {
   "cell_type": "markdown",
   "metadata": {},
   "source": [
    "## Question 7\n",
    "\n",
    "Using the computed filter coefficients, compute an estimate of the denoised audio signals from the received ones.\n",
    "Plot together the denoised signal with the originally received one.\n",
    "Create one plot for every audio signal.\n",
    "\n",
    "Use the *play_signal()* function to play the denoised signals - do you hear the difference between the originally received and the denoised one? **(3 points)**\n",
    "\n",
    "**Hint:** the *scipy.signal.lfilter()* function can be useful when using the Wiener filter. You can compare your solution to the *scipy.signal.wiener()* function, which uses its own estimate of the noise instead of the noise measurement. Do you notice any differences?"
   ]
  },
  {
   "cell_type": "markdown",
   "metadata": {},
   "source": [
    "### Answer 7\n",
    "\n",
    "Click here to type your answer. Type *Markdown* and LaTeX: $\\alpha^2$."
   ]
  },
  {
   "cell_type": "code",
   "execution_count": null,
   "metadata": {},
   "outputs": [],
   "source": [
    "# applying the Wiener filter to the problem\n",
    "import scipy.signal as sig"
   ]
  },
  {
   "cell_type": "code",
   "execution_count": null,
   "metadata": {},
   "outputs": [],
   "source": [
    "# listen the noised and denoised audio signals\n",
    "import time\n",
    "\n",
    "# index of the experiment that we want to hear\n",
    "ind_to_hear = 2\n",
    "\n",
    "# signal with noise\n",
    "play_signal( data_noised[ind_to_hear] )\n",
    "\n",
    "# timer to wait for some time between sounds\n",
    "time.sleep(3)\n",
    "\n",
    "# denoised signal\n",
    "play_signal(  )"
   ]
  },
  {
   "cell_type": "code",
   "execution_count": null,
   "metadata": {},
   "outputs": [],
   "source": [
    "# plot the noised and denoised signals together"
   ]
  },
  {
   "cell_type": "markdown",
   "metadata": {},
   "source": [
    "## Question 8\n",
    "\n",
    "1. To investigate the effect of the filter order on the denoising, vary the filter order between $m = 2$ and $m = 20$. \n",
    "   For what distance and for what filter order do you have the best denoised audio signal? Justify your answer. **(1 point)**\n",
    "   \n",
    "2. Denote the best denoised signal from item \"a.\" as $d(n)$, and calculate the cost function $J$ of the Wiener problem assuming this signal is the ground truth. Print best filter order and the its respective cost function value for every received denoised audio signal. **(1 point)**\n",
    "   \n",
    "3. Plot the filter order (from $m=2$ to $m=20$) versus cost function value for all received signals. **(1 point)**"
   ]
  },
  {
   "cell_type": "markdown",
   "metadata": {},
   "source": [
    "### Answer 8\n",
    "\n",
    "Click here to type your answer. Type *Markdown* and LaTeX: $\\alpha^2$."
   ]
  },
  {
   "cell_type": "code",
   "execution_count": null,
   "metadata": {},
   "outputs": [],
   "source": [
    "# use different Wiener filter orders"
   ]
  },
  {
   "cell_type": "code",
   "execution_count": null,
   "metadata": {},
   "outputs": [],
   "source": [
    "# plot the best denoised signal, which we will take to be the ground truth"
   ]
  },
  {
   "cell_type": "code",
   "execution_count": null,
   "metadata": {},
   "outputs": [],
   "source": [
    "# play the audio signal that is considered as ground truth"
   ]
  },
  {
   "cell_type": "code",
   "execution_count": null,
   "metadata": {},
   "outputs": [],
   "source": [
    "# calculating the cost function"
   ]
  },
  {
   "cell_type": "code",
   "execution_count": null,
   "metadata": {},
   "outputs": [],
   "source": [
    "# plot cost functions as a function of the filter order"
   ]
  },
  {
   "cell_type": "markdown",
   "metadata": {},
   "source": [
    "## Question 9 (bonus)\n",
    "This is an **optional** bonus question, in which you can earn bonus points to make up for any points you lost earlier during this exercise. Note that if you already have the maximum amount of points for this exercise (i.e. grade 10), any additional bonus points will be ignored (that is, they do not carry over to other exercises or the exam).\n",
    "\n",
    "In this bonus question, we will characterize the signal over distance dependency by computing the signal-to-noise-ratio (SNR). For that:\n",
    "1. Calculate the periodogram $P_d$ using the denoised audio signals only for the highest filter order from Question 8.\n",
    "Calculate the periodogram $P_x$ using the noised audio signals (see section \"*5.2.8 WSS Processes in the Frequency Domain*\" in the lecture notes). Plot the **denoised** estimated power spectra. **(2 bonus points)**\n",
    "**Hint:** be careful with the indexing. You can use *numpy.fft.fft()* and *numpy.fft.fftfreq()* functions.\n",
    "          \n",
    "2. SNR is the ratio between the **ground truth** audio signal energy and the noise energy.\n",
    "The energy can be calculated as $E = \\int_{-\\infty}^{+\\infty} P d\\omega$. Approximating the integral by finite sum, calculate\n",
    "\n",
    "   (a) the SNR of the denoised audio signals; \n",
    "\n",
    "   (b) the SNR of the noised audio signals. This can be done by relating the power spectrum of the noised signal with the power spectrum of the ground truth signal.\n",
    "\n",
    "   In a single figure, plot these SNR values versus distance. **(2 bonus points)**\n",
    "\n",
    "\n",
    "3. Are the graphs different? Explain why. **(1 bonus point)**"
   ]
  },
  {
   "cell_type": "markdown",
   "metadata": {},
   "source": [
    "### Answer 9\n",
    "\n",
    "Click here to type your answer. Type *Markdown* and LaTeX: $\\alpha^2$."
   ]
  },
  {
   "cell_type": "code",
   "execution_count": null,
   "metadata": {},
   "outputs": [],
   "source": [
    "# calculating the periodogram for denoised audio signals\n",
    "# and noised audio signals\n",
    "# (estimation of the power spectrum)"
   ]
  },
  {
   "cell_type": "code",
   "execution_count": null,
   "metadata": {},
   "outputs": [],
   "source": [
    "# plot power spectrum values"
   ]
  },
  {
   "cell_type": "code",
   "execution_count": null,
   "metadata": {},
   "outputs": [],
   "source": [
    "# plot the SNR over distance"
   ]
  }
 ],
 "metadata": {
  "kernelspec": {
   "display_name": "Python 3",
   "language": "python",
   "name": "python3"
  },
  "language_info": {
   "codemirror_mode": {
    "name": "ipython",
    "version": 3
   },
   "file_extension": ".py",
   "mimetype": "text/x-python",
   "name": "python",
   "nbconvert_exporter": "python",
   "pygments_lexer": "ipython3",
   "version": "3.7.4"
  }
 },
 "nbformat": 4,
 "nbformat_minor": 2
}
